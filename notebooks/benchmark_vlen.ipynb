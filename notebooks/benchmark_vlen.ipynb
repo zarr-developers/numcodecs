{
 "cells": [
  {
   "cell_type": "markdown",
   "metadata": {},
   "source": [
    "## Setup"
   ]
  },
  {
   "cell_type": "code",
   "execution_count": 1,
   "metadata": {},
   "outputs": [
    {
     "data": {
      "text/plain": [
       "'0.9.1'"
      ]
     },
     "execution_count": 1,
     "metadata": {},
     "output_type": "execute_result"
    }
   ],
   "source": [
    "import numpy as np\n",
    "import numcodecs\n",
    "numcodecs.__version__"
   ]
  },
  {
   "cell_type": "markdown",
   "metadata": {},
   "source": [
    "## Unicode string benchmarks"
   ]
  },
  {
   "cell_type": "code",
   "execution_count": 2,
   "metadata": {},
   "outputs": [],
   "source": [
    "import fastparquet\n",
    "\n",
    "\n",
    "class FastParquetCodec(numcodecs.abc.Codec):\n",
    "    \"\"\"Hacked codec using fastparquet utf8 encoding, for benchmarking purposes only.\"\"\"\n",
    "    \n",
    "    codec_id = 'xxx-fastparquet'\n",
    "    \n",
    "    def encode(self, buf):\n",
    "        buf = np.asanyarray(buf)\n",
    "        n = buf.size\n",
    "        ba = fastparquet.speedups.array_encode_utf8(buf)\n",
    "        enc = fastparquet.speedups.pack_byte_array(ba.tolist())\n",
    "        return n, enc  # hack for now, return n\n",
    "    \n",
    "    def decode(self, data, out=None):\n",
    "        n, enc = data\n",
    "        ba = fastparquet.speedups.unpack_byte_array(enc, n)\n",
    "        dec = fastparquet.speedups.array_decode_utf8(np.array(ba, dtype=object))\n",
    "        if out is not None:\n",
    "            out[:] = dec\n",
    "            return out\n",
    "        return dec"
   ]
  },
  {
   "cell_type": "code",
   "execution_count": 3,
   "metadata": {},
   "outputs": [],
   "source": [
    "zstd1 = numcodecs.Zstd(1)\n",
    "zstd5 = numcodecs.Zstd(5)\n",
    "zstd9 = numcodecs.Zstd(9)\n",
    "\n",
    "\n",
    "def benchmark_codec(codec, a):\n",
    "    print(codec)\n",
    "    print('encode')\n",
    "    %timeit codec.encode(a)\n",
    "    enc = codec.encode(a)\n",
    "    print('decode')\n",
    "    %timeit codec.decode(enc)\n",
    "    if isinstance(codec, FastParquetCodec):\n",
    "        enc = enc[1]  # hack\n",
    "    print('size         : {:,}'.format(len(enc)))\n",
    "    print('size (zstd 1): {:,}'.format(len(zstd1.encode(enc))))\n",
    "    print('size (zstd 5): {:,}'.format(len(zstd5.encode(enc))))\n",
    "    print('size (zstd 9): {:,}'.format(len(zstd9.encode(enc))))\n"
   ]
  },
  {
   "cell_type": "code",
   "execution_count": 4,
   "metadata": {},
   "outputs": [],
   "source": [
    "from numcodecs.tests.common import greetings\n",
    "msgpack_codec = numcodecs.MsgPack()\n",
    "json_codec = numcodecs.JSON()\n",
    "pickle_codec = numcodecs.Pickle()\n",
    "cat_codec = numcodecs.Categorize(greetings, dtype=object, astype='u1')\n",
    "vlen_codec = numcodecs.VLenUTF8()\n",
    "fp_codec = FastParquetCodec()"
   ]
  },
  {
   "cell_type": "markdown",
   "metadata": {},
   "source": [
    "### Greetings benchmark"
   ]
  },
  {
   "cell_type": "code",
   "execution_count": 5,
   "metadata": {},
   "outputs": [
    {
     "data": {
      "text/plain": [
       "array(['Γεια σου κόσμε!', 'Hei maailma!', 'Zdravo svete!', ...,\n",
       "       'Servus Woid!', 'เฮลโลเวิลด์', 'Zdravo svete!'], dtype=object)"
      ]
     },
     "execution_count": 5,
     "metadata": {},
     "output_type": "execute_result"
    }
   ],
   "source": [
    "np.random.seed(42)\n",
    "data = np.random.choice(greetings, size=1000000).astype(object)\n",
    "data"
   ]
  },
  {
   "cell_type": "code",
   "execution_count": 6,
   "metadata": {},
   "outputs": [
    {
     "name": "stdout",
     "output_type": "stream",
     "text": [
      "CPU times: user 104 ms, sys: 32.9 ms, total: 137 ms\n",
      "Wall time: 137 ms\n"
     ]
    }
   ],
   "source": [
    "%time enc = vlen_codec.encode(data)"
   ]
  },
  {
   "cell_type": "code",
   "execution_count": 7,
   "metadata": {},
   "outputs": [
    {
     "name": "stdout",
     "output_type": "stream",
     "text": [
      "CPU times: user 172 ms, sys: 30.1 ms, total: 202 ms\n",
      "Wall time: 202 ms\n"
     ]
    }
   ],
   "source": [
    "%time dec = vlen_codec.decode(enc)"
   ]
  },
  {
   "cell_type": "code",
   "execution_count": 8,
   "metadata": {},
   "outputs": [
    {
     "name": "stdout",
     "output_type": "stream",
     "text": [
      "MsgPack(raw=False, use_bin_type=True, use_single_float=False)\n",
      "encode\n",
      "83.5 ms ± 3.15 ms per loop (mean ± std. dev. of 7 runs, 10 loops each)\n",
      "decode\n",
      "288 ms ± 6.58 ms per loop (mean ± std. dev. of 7 runs, 1 loop each)\n",
      "size         : 18,913,397\n",
      "size (zstd 1): 1,529,314\n",
      "size (zstd 5): 1,405,819\n",
      "size (zstd 9): 1,178,324\n"
     ]
    }
   ],
   "source": [
    "benchmark_codec(msgpack_codec, data)"
   ]
  },
  {
   "cell_type": "code",
   "execution_count": 9,
   "metadata": {},
   "outputs": [
    {
     "name": "stdout",
     "output_type": "stream",
     "text": [
      "JSON(encoding='utf-8', allow_nan=True, check_circular=True, ensure_ascii=True,\n",
      "     indent=None, separators=(',', ':'), skipkeys=False, sort_keys=True,\n",
      "     strict=True)\n",
      "encode\n",
      "291 ms ± 6.69 ms per loop (mean ± std. dev. of 7 runs, 1 loop each)\n",
      "decode\n",
      "420 ms ± 11.6 ms per loop (mean ± std. dev. of 7 runs, 1 loop each)\n",
      "size         : 33,322,605\n",
      "size (zstd 1): 1,840,791\n",
      "size (zstd 5): 1,675,175\n",
      "size (zstd 9): 1,360,789\n"
     ]
    }
   ],
   "source": [
    "benchmark_codec(json_codec, data)"
   ]
  },
  {
   "cell_type": "code",
   "execution_count": 10,
   "metadata": {},
   "outputs": [
    {
     "name": "stdout",
     "output_type": "stream",
     "text": [
      "Pickle(protocol=5)\n",
      "encode\n",
      "285 ms ± 7.03 ms per loop (mean ± std. dev. of 7 runs, 1 loop each)\n",
      "decode\n",
      "273 ms ± 6.9 ms per loop (mean ± std. dev. of 7 runs, 1 loop each)\n",
      "size         : 20,835,273\n",
      "size (zstd 1): 1,565,100\n",
      "size (zstd 5): 1,435,771\n",
      "size (zstd 9): 1,204,419\n"
     ]
    }
   ],
   "source": [
    "benchmark_codec(pickle_codec, data)"
   ]
  },
  {
   "cell_type": "code",
   "execution_count": 11,
   "metadata": {},
   "outputs": [
    {
     "name": "stdout",
     "output_type": "stream",
     "text": [
      "Categorize(dtype='|O', astype='|u1', labels=['¡Hola mundo!', 'Hej Världen!', 'Servus Woid!', ...])\n",
      "encode\n",
      "263 ms ± 10.6 ms per loop (mean ± std. dev. of 7 runs, 1 loop each)\n",
      "decode\n",
      "46.7 ms ± 2.79 ms per loop (mean ± std. dev. of 7 runs, 10 loops each)\n",
      "size         : 1,000,000\n",
      "size (zstd 1): 458,196\n",
      "size (zstd 5): 490,680\n",
      "size (zstd 9): 490,487\n"
     ]
    }
   ],
   "source": [
    "benchmark_codec(cat_codec, data)"
   ]
  },
  {
   "cell_type": "code",
   "execution_count": 12,
   "metadata": {},
   "outputs": [
    {
     "name": "stdout",
     "output_type": "stream",
     "text": [
      "VLenUTF8()\n",
      "encode\n",
      "125 ms ± 14.3 ms per loop (mean ± std. dev. of 7 runs, 10 loops each)\n",
      "decode\n",
      "234 ms ± 18.5 ms per loop (mean ± std. dev. of 7 runs, 1 loop each)\n",
      "size         : 21,830,275\n",
      "size (zstd 1): 1,762,783\n",
      "size (zstd 5): 1,546,616\n",
      "size (zstd 9): 1,216,314\n"
     ]
    }
   ],
   "source": [
    "benchmark_codec(vlen_codec, data)"
   ]
  },
  {
   "cell_type": "code",
   "execution_count": 13,
   "metadata": {},
   "outputs": [
    {
     "name": "stdout",
     "output_type": "stream",
     "text": [
      "FastParquetCodec()\n",
      "encode\n",
      "118 ms ± 3.43 ms per loop (mean ± std. dev. of 7 runs, 10 loops each)\n",
      "decode\n",
      "325 ms ± 31.9 ms per loop (mean ± std. dev. of 7 runs, 1 loop each)\n",
      "size         : 21,830,271\n",
      "size (zstd 1): 1,762,787\n",
      "size (zstd 5): 1,546,612\n",
      "size (zstd 9): 1,216,426\n"
     ]
    }
   ],
   "source": [
    "benchmark_codec(fp_codec, data)"
   ]
  },
  {
   "cell_type": "markdown",
   "metadata": {},
   "source": [
    "### Lorem benchmark"
   ]
  },
  {
   "cell_type": "code",
   "execution_count": 14,
   "metadata": {},
   "outputs": [],
   "source": [
    "from faker import Faker\n",
    "fake = Faker()"
   ]
  },
  {
   "cell_type": "code",
   "execution_count": 15,
   "metadata": {},
   "outputs": [
    {
     "data": {
      "text/plain": [
       "(1101020,\n",
       " array(['Most', 'top', 'magazine', 'bed', 'successful.', 'Center',\n",
       "        'exactly', 'and', 'hour', 'wide'], dtype=object))"
      ]
     },
     "execution_count": 15,
     "metadata": {},
     "output_type": "execute_result"
    }
   ],
   "source": [
    "data2 = np.array(' '.join(fake.sentences(nb=200000)).split(), dtype=object)\n",
    "len(data2), data2[:10]"
   ]
  },
  {
   "cell_type": "code",
   "execution_count": 16,
   "metadata": {},
   "outputs": [
    {
     "name": "stdout",
     "output_type": "stream",
     "text": [
      "MsgPack(raw=False, use_bin_type=True, use_single_float=False)\n",
      "encode\n",
      "76.9 ms ± 602 µs per loop (mean ± std. dev. of 7 runs, 10 loops each)\n",
      "decode\n",
      "191 ms ± 21.7 ms per loop (mean ± std. dev. of 7 runs, 10 loops each)\n",
      "size         : 7,399,529\n",
      "size (zstd 1): 3,308,650\n",
      "size (zstd 5): 2,706,469\n",
      "size (zstd 9): 2,697,930\n"
     ]
    }
   ],
   "source": [
    "benchmark_codec(msgpack_codec, data2)"
   ]
  },
  {
   "cell_type": "code",
   "execution_count": 17,
   "metadata": {},
   "outputs": [
    {
     "name": "stdout",
     "output_type": "stream",
     "text": [
      "JSON(encoding='utf-8', allow_nan=True, check_circular=True, ensure_ascii=True,\n",
      "     indent=None, separators=(',', ':'), skipkeys=False, sort_keys=True,\n",
      "     strict=True)\n",
      "encode\n",
      "226 ms ± 18.7 ms per loop (mean ± std. dev. of 7 runs, 10 loops each)\n",
      "decode\n",
      "271 ms ± 29.5 ms per loop (mean ± std. dev. of 7 runs, 1 loop each)\n",
      "size         : 9,601,571\n",
      "size (zstd 1): 2,895,764\n",
      "size (zstd 5): 2,713,287\n",
      "size (zstd 9): 2,681,954\n"
     ]
    }
   ],
   "source": [
    "benchmark_codec(json_codec, data2)"
   ]
  },
  {
   "cell_type": "code",
   "execution_count": 18,
   "metadata": {},
   "outputs": [
    {
     "name": "stdout",
     "output_type": "stream",
     "text": [
      "Pickle(protocol=5)\n",
      "encode\n",
      "342 ms ± 36 ms per loop (mean ± std. dev. of 7 runs, 1 loop each)\n",
      "decode\n",
      "193 ms ± 6.01 ms per loop (mean ± std. dev. of 7 runs, 10 loops each)\n",
      "size         : 9,607,048\n",
      "size (zstd 1): 3,052,431\n",
      "size (zstd 5): 2,754,370\n",
      "size (zstd 9): 2,828,895\n"
     ]
    }
   ],
   "source": [
    "benchmark_codec(pickle_codec, data2)"
   ]
  },
  {
   "cell_type": "code",
   "execution_count": 19,
   "metadata": {},
   "outputs": [
    {
     "name": "stdout",
     "output_type": "stream",
     "text": [
      "VLenUTF8()\n",
      "encode\n",
      "116 ms ± 6.88 ms per loop (mean ± std. dev. of 7 runs, 10 loops each)\n",
      "decode\n",
      "140 ms ± 13.4 ms per loop (mean ± std. dev. of 7 runs, 10 loops each)\n",
      "size         : 10,702,579\n",
      "size (zstd 1): 3,638,377\n",
      "size (zstd 5): 3,458,719\n",
      "size (zstd 9): 3,023,123\n"
     ]
    }
   ],
   "source": [
    "benchmark_codec(vlen_codec, data2)"
   ]
  },
  {
   "cell_type": "code",
   "execution_count": 20,
   "metadata": {},
   "outputs": [
    {
     "name": "stdout",
     "output_type": "stream",
     "text": [
      "FastParquetCodec()\n",
      "encode\n",
      "126 ms ± 8.51 ms per loop (mean ± std. dev. of 7 runs, 10 loops each)\n",
      "decode\n",
      "211 ms ± 14.2 ms per loop (mean ± std. dev. of 7 runs, 1 loop each)\n",
      "size         : 10,702,575\n",
      "size (zstd 1): 3,638,601\n",
      "size (zstd 5): 3,458,675\n",
      "size (zstd 9): 3,022,583\n"
     ]
    }
   ],
   "source": [
    "benchmark_codec(fp_codec, data2)"
   ]
  },
  {
   "cell_type": "markdown",
   "metadata": {},
   "source": [
    "## Byte strings benchmark"
   ]
  },
  {
   "cell_type": "code",
   "execution_count": 21,
   "metadata": {},
   "outputs": [],
   "source": [
    "vlen_bytes_codec = numcodecs.VLenBytes()"
   ]
  },
  {
   "cell_type": "code",
   "execution_count": 22,
   "metadata": {},
   "outputs": [
    {
     "data": {
      "text/plain": [
       "array([b'\\xce\\x93\\xce\\xb5\\xce\\xb9\\xce\\xb1 \\xcf\\x83\\xce\\xbf\\xcf\\x85 \\xce\\xba\\xcf\\x8c\\xcf\\x83\\xce\\xbc\\xce\\xb5!',\n",
       "       b'Hei maailma!', b'Zdravo svete!', ..., b'Servus Woid!',\n",
       "       b'\\xe0\\xb9\\x80\\xe0\\xb8\\xae\\xe0\\xb8\\xa5\\xe0\\xb9\\x82\\xe0\\xb8\\xa5\\xe0\\xb9\\x80\\xe0\\xb8\\xa7\\xe0\\xb8\\xb4\\xe0\\xb8\\xa5\\xe0\\xb8\\x94\\xe0\\xb9\\x8c',\n",
       "       b'Zdravo svete!'], dtype=object)"
      ]
     },
     "execution_count": 22,
     "metadata": {},
     "output_type": "execute_result"
    }
   ],
   "source": [
    "np.random.seed(42)\n",
    "greetings_bytes = [g.encode('utf-8') for g in greetings]\n",
    "data3 = np.random.choice(greetings_bytes, size=1000000).astype(object)\n",
    "data3"
   ]
  },
  {
   "cell_type": "code",
   "execution_count": 23,
   "metadata": {},
   "outputs": [
    {
     "data": {
      "text/plain": [
       "array([b'\\xce\\x93\\xce\\xb5\\xce\\xb9\\xce\\xb1 \\xcf\\x83\\xce\\xbf\\xcf\\x85 \\xce\\xba\\xcf\\x8c\\xcf\\x83\\xce\\xbc\\xce\\xb5!',\n",
       "       b'Hei maailma!', b'Zdravo svete!', ..., b'Servus Woid!',\n",
       "       b'\\xe0\\xb9\\x80\\xe0\\xb8\\xae\\xe0\\xb8\\xa5\\xe0\\xb9\\x82\\xe0\\xb8\\xa5\\xe0\\xb9\\x80\\xe0\\xb8\\xa7\\xe0\\xb8\\xb4\\xe0\\xb8\\xa5\\xe0\\xb8\\x94\\xe0\\xb9\\x8c',\n",
       "       b'Zdravo svete!'], dtype=object)"
      ]
     },
     "execution_count": 23,
     "metadata": {},
     "output_type": "execute_result"
    }
   ],
   "source": [
    "vlen_bytes_codec.decode(vlen_bytes_codec.encode(data3))"
   ]
  },
  {
   "cell_type": "code",
   "execution_count": 24,
   "metadata": {},
   "outputs": [
    {
     "name": "stdout",
     "output_type": "stream",
     "text": [
      "Pickle(protocol=5)\n",
      "encode\n",
      "253 ms ± 9.93 ms per loop (mean ± std. dev. of 7 runs, 1 loop each)\n",
      "decode\n",
      "111 ms ± 1.78 ms per loop (mean ± std. dev. of 7 runs, 10 loops each)\n",
      "size         : 20,835,273\n",
      "size (zstd 1): 1,565,112\n",
      "size (zstd 5): 1,435,770\n",
      "size (zstd 9): 1,204,445\n"
     ]
    }
   ],
   "source": [
    "benchmark_codec(pickle_codec, data3)"
   ]
  },
  {
   "cell_type": "code",
   "execution_count": 25,
   "metadata": {},
   "outputs": [
    {
     "name": "stdout",
     "output_type": "stream",
     "text": [
      "VLenBytes()\n",
      "encode\n",
      "32.3 ms ± 418 µs per loop (mean ± std. dev. of 7 runs, 10 loops each)\n",
      "decode\n",
      "71.5 ms ± 1.72 ms per loop (mean ± std. dev. of 7 runs, 10 loops each)\n",
      "size         : 21,830,275\n",
      "size (zstd 1): 1,762,783\n",
      "size (zstd 5): 1,546,616\n",
      "size (zstd 9): 1,216,314\n"
     ]
    }
   ],
   "source": [
    "benchmark_codec(vlen_bytes_codec, data3)"
   ]
  },
  {
   "cell_type": "markdown",
   "metadata": {},
   "source": [
    "## Array benchmarks"
   ]
  },
  {
   "cell_type": "code",
   "execution_count": 26,
   "metadata": {},
   "outputs": [
    {
     "data": {
      "text/plain": [
       "array([array([51, 92, 14, 71, 60, 20], dtype=int32),\n",
       "       array([82, 86, 74, 74, 87, 99], dtype=int32),\n",
       "       array([23,  2, 21, 52,  1, 87, 29], dtype=int32), ...,\n",
       "       array([19, 62, 18], dtype=int32),\n",
       "       array([93, 20,  7, 50], dtype=int32), array([51, 28], dtype=int32)],\n",
       "      dtype=object)"
      ]
     },
     "execution_count": 26,
     "metadata": {},
     "output_type": "execute_result"
    }
   ],
   "source": [
    "np.random.seed(42)\n",
    "data4 = np.array([np.random.randint(0, 100, size=np.random.randint(0, 20)).astype('i4')\n",
    "                  for i in range(100000)], dtype=object)\n",
    "data4"
   ]
  },
  {
   "cell_type": "code",
   "execution_count": 27,
   "metadata": {},
   "outputs": [],
   "source": [
    "vlen_arr_codec = numcodecs.VLenArray('<i4')"
   ]
  },
  {
   "cell_type": "code",
   "execution_count": 28,
   "metadata": {},
   "outputs": [
    {
     "data": {
      "text/plain": [
       "array([array([51, 92, 14, 71, 60, 20], dtype=int32),\n",
       "       array([82, 86, 74, 74, 87, 99], dtype=int32),\n",
       "       array([23,  2, 21, 52,  1, 87, 29], dtype=int32), ...,\n",
       "       array([19, 62, 18], dtype=int32),\n",
       "       array([93, 20,  7, 50], dtype=int32), array([51, 28], dtype=int32)],\n",
       "      dtype=object)"
      ]
     },
     "execution_count": 28,
     "metadata": {},
     "output_type": "execute_result"
    }
   ],
   "source": [
    "vlen_arr_codec.decode(vlen_arr_codec.encode(data4))"
   ]
  },
  {
   "cell_type": "code",
   "execution_count": 29,
   "metadata": {},
   "outputs": [
    {
     "name": "stdout",
     "output_type": "stream",
     "text": [
      "VLenArray(dtype='<i4')\n",
      "encode\n",
      "27.5 ms ± 1.15 ms per loop (mean ± std. dev. of 7 runs, 10 loops each)\n",
      "decode\n",
      "58.2 ms ± 1.31 ms per loop (mean ± std. dev. of 7 runs, 10 loops each)\n",
      "size         : 4,195,540\n",
      "size (zstd 1): 1,299,769\n",
      "size (zstd 5): 1,119,369\n",
      "size (zstd 9): 1,196,642\n"
     ]
    }
   ],
   "source": [
    "benchmark_codec(vlen_arr_codec, data4)"
   ]
  },
  {
   "cell_type": "code",
   "execution_count": 30,
   "metadata": {},
   "outputs": [
    {
     "name": "stdout",
     "output_type": "stream",
     "text": [
      "Pickle(protocol=5)\n",
      "encode\n",
      "313 ms ± 8.21 ms per loop (mean ± std. dev. of 7 runs, 1 loop each)\n",
      "decode\n",
      "141 ms ± 3.63 ms per loop (mean ± std. dev. of 7 runs, 10 loops each)\n",
      "size         : 6,296,822\n",
      "size (zstd 1): 1,619,421\n",
      "size (zstd 5): 1,507,086\n",
      "size (zstd 9): 1,493,343\n"
     ]
    }
   ],
   "source": [
    "benchmark_codec(pickle_codec, data4)"
   ]
  },
  {
   "cell_type": "code",
   "execution_count": null,
   "metadata": {},
   "outputs": [],
   "source": []
  }
 ],
 "metadata": {
  "kernelspec": {
   "display_name": "Python 3 (ipykernel)",
   "language": "python",
   "name": "python3"
  },
  "language_info": {
   "codemirror_mode": {
    "name": "ipython",
    "version": 3
   },
   "file_extension": ".py",
   "mimetype": "text/x-python",
   "name": "python",
   "nbconvert_exporter": "python",
   "pygments_lexer": "ipython3",
   "version": "3.9.12"
  }
 },
 "nbformat": 4,
 "nbformat_minor": 2
}
