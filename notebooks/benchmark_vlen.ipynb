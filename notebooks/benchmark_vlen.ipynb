{
 "cells": [
  {
   "cell_type": "markdown",
   "metadata": {},
   "source": [
    "## Setup"
   ]
  },
  {
   "cell_type": "code",
   "execution_count": 1,
   "metadata": {},
   "outputs": [
    {
     "data": {
      "text/plain": [
       "'0.9.1'"
      ]
     },
     "execution_count": 1,
     "metadata": {},
     "output_type": "execute_result"
    }
   ],
   "source": [
    "import numpy as np\n",
    "import numcodecs\n",
    "numcodecs.__version__"
   ]
  },
  {
   "cell_type": "markdown",
   "metadata": {},
   "source": [
    "## Unicode string benchmarks"
   ]
  },
  {
   "cell_type": "code",
   "execution_count": 2,
   "metadata": {},
   "outputs": [],
   "source": [
    "zstd1 = numcodecs.Zstd(1)\n",
    "zstd5 = numcodecs.Zstd(5)\n",
    "zstd9 = numcodecs.Zstd(9)\n",
    "\n",
    "\n",
    "def benchmark_codec(codec, a):\n",
    "    print(codec)\n",
    "    print('encode')\n",
    "    %timeit codec.encode(a)\n",
    "    enc = codec.encode(a)\n",
    "    print('decode')\n",
    "    %timeit codec.decode(enc)\n",
    "    print('size         : {:,}'.format(len(enc)))\n",
    "    print('size (zstd 1): {:,}'.format(len(zstd1.encode(enc))))\n",
    "    print('size (zstd 5): {:,}'.format(len(zstd5.encode(enc))))\n",
    "    print('size (zstd 9): {:,}'.format(len(zstd9.encode(enc))))"
   ]
  },
  {
   "cell_type": "code",
   "execution_count": 3,
   "metadata": {},
   "outputs": [],
   "source": [
    "from numcodecs.tests.common import greetings\n",
    "msgpack_codec = numcodecs.MsgPack()\n",
    "json_codec = numcodecs.JSON()\n",
    "pickle_codec = numcodecs.Pickle()\n",
    "cat_codec = numcodecs.Categorize(greetings, dtype=object, astype='u1')\n",
    "vlen_codec = numcodecs.VLenUTF8()"
   ]
  },
  {
   "cell_type": "markdown",
   "metadata": {},
   "source": [
    "### Greetings benchmark"
   ]
  },
  {
   "cell_type": "code",
   "execution_count": 4,
   "metadata": {},
   "outputs": [
    {
     "data": {
      "text/plain": [
       "array(['Γεια σου κόσμε!', 'Hei maailma!', 'Zdravo svete!', ...,\n",
       "       'Servus Woid!', 'เฮลโลเวิลด์', 'Zdravo svete!'], dtype=object)"
      ]
     },
     "execution_count": 4,
     "metadata": {},
     "output_type": "execute_result"
    }
   ],
   "source": [
    "np.random.seed(42)\n",
    "data = np.random.choice(greetings, size=1000000).astype(object)\n",
    "data"
   ]
  },
  {
   "cell_type": "code",
   "execution_count": 5,
   "metadata": {},
   "outputs": [
    {
     "name": "stdout",
     "output_type": "stream",
     "text": [
      "CPU times: user 109 ms, sys: 30.9 ms, total: 140 ms\n",
      "Wall time: 143 ms\n"
     ]
    }
   ],
   "source": [
    "%time enc = vlen_codec.encode(data)"
   ]
  },
  {
   "cell_type": "code",
   "execution_count": 6,
   "metadata": {},
   "outputs": [
    {
     "name": "stdout",
     "output_type": "stream",
     "text": [
      "CPU times: user 162 ms, sys: 25.1 ms, total: 187 ms\n",
      "Wall time: 185 ms\n"
     ]
    }
   ],
   "source": [
    "%time dec = vlen_codec.decode(enc)"
   ]
  },
  {
   "cell_type": "code",
   "execution_count": 7,
   "metadata": {},
   "outputs": [
    {
     "name": "stdout",
     "output_type": "stream",
     "text": [
      "MsgPack(raw=False, use_bin_type=True, use_single_float=False)\n",
      "encode\n",
      "78.6 ms ± 9.27 ms per loop (mean ± std. dev. of 7 runs, 10 loops each)\n",
      "decode\n",
      "265 ms ± 33.7 ms per loop (mean ± std. dev. of 7 runs, 1 loop each)\n",
      "size         : 18,913,397\n",
      "size (zstd 1): 1,529,314\n",
      "size (zstd 5): 1,405,819\n",
      "size (zstd 9): 1,178,324\n"
     ]
    }
   ],
   "source": [
    "benchmark_codec(msgpack_codec, data)"
   ]
  },
  {
   "cell_type": "code",
   "execution_count": 8,
   "metadata": {},
   "outputs": [
    {
     "name": "stdout",
     "output_type": "stream",
     "text": [
      "JSON(encoding='utf-8', allow_nan=True, check_circular=True, ensure_ascii=True,\n",
      "     indent=None, separators=(',', ':'), skipkeys=False, sort_keys=True,\n",
      "     strict=True)\n",
      "encode\n",
      "252 ms ± 5.51 ms per loop (mean ± std. dev. of 7 runs, 1 loop each)\n",
      "decode\n",
      "396 ms ± 45.7 ms per loop (mean ± std. dev. of 7 runs, 1 loop each)\n",
      "size         : 33,322,605\n",
      "size (zstd 1): 1,840,791\n",
      "size (zstd 5): 1,675,175\n",
      "size (zstd 9): 1,360,789\n"
     ]
    }
   ],
   "source": [
    "benchmark_codec(json_codec, data)"
   ]
  },
  {
   "cell_type": "code",
   "execution_count": 9,
   "metadata": {},
   "outputs": [
    {
     "name": "stdout",
     "output_type": "stream",
     "text": [
      "Pickle(protocol=5)\n",
      "encode\n",
      "277 ms ± 37.3 ms per loop (mean ± std. dev. of 7 runs, 1 loop each)\n",
      "decode\n",
      "258 ms ± 37.3 ms per loop (mean ± std. dev. of 7 runs, 1 loop each)\n",
      "size         : 20,835,273\n",
      "size (zstd 1): 1,565,100\n",
      "size (zstd 5): 1,435,771\n",
      "size (zstd 9): 1,204,419\n"
     ]
    }
   ],
   "source": [
    "benchmark_codec(pickle_codec, data)"
   ]
  },
  {
   "cell_type": "code",
   "execution_count": 10,
   "metadata": {},
   "outputs": [
    {
     "name": "stdout",
     "output_type": "stream",
     "text": [
      "Categorize(dtype='|O', astype='|u1', labels=['¡Hola mundo!', 'Hej Världen!', 'Servus Woid!', ...])\n",
      "encode\n",
      "274 ms ± 21.3 ms per loop (mean ± std. dev. of 7 runs, 1 loop each)\n",
      "decode\n",
      "46.3 ms ± 4.54 ms per loop (mean ± std. dev. of 7 runs, 10 loops each)\n",
      "size         : 1,000,000\n",
      "size (zstd 1): 458,196\n",
      "size (zstd 5): 490,680\n",
      "size (zstd 9): 490,487\n"
     ]
    }
   ],
   "source": [
    "benchmark_codec(cat_codec, data)"
   ]
  },
  {
   "cell_type": "code",
   "execution_count": 11,
   "metadata": {},
   "outputs": [
    {
     "name": "stdout",
     "output_type": "stream",
     "text": [
      "VLenUTF8()\n",
      "encode\n",
      "107 ms ± 10.4 ms per loop (mean ± std. dev. of 7 runs, 10 loops each)\n",
      "decode\n",
      "184 ms ± 2.66 ms per loop (mean ± std. dev. of 7 runs, 10 loops each)\n",
      "size         : 21,830,275\n",
      "size (zstd 1): 1,762,783\n",
      "size (zstd 5): 1,546,616\n",
      "size (zstd 9): 1,216,314\n"
     ]
    }
   ],
   "source": [
    "benchmark_codec(vlen_codec, data)"
   ]
  },
  {
   "cell_type": "markdown",
   "metadata": {},
   "source": [
    "### Lorem benchmark"
   ]
  },
  {
   "cell_type": "code",
   "execution_count": 12,
   "metadata": {},
   "outputs": [],
   "source": [
    "from faker import Faker\n",
    "fake = Faker()"
   ]
  },
  {
   "cell_type": "code",
   "execution_count": 13,
   "metadata": {},
   "outputs": [
    {
     "data": {
      "text/plain": [
       "(1102008,\n",
       " array(['Ahead', 'everybody', 'important', 'indeed.', 'White', 'look',\n",
       "        'than', 'environment', 'anyone.', 'Order'], dtype=object))"
      ]
     },
     "execution_count": 13,
     "metadata": {},
     "output_type": "execute_result"
    }
   ],
   "source": [
    "data2 = np.array(' '.join(fake.sentences(nb=200000)).split(), dtype=object)\n",
    "len(data2), data2[:10]"
   ]
  },
  {
   "cell_type": "code",
   "execution_count": 14,
   "metadata": {},
   "outputs": [
    {
     "name": "stdout",
     "output_type": "stream",
     "text": [
      "MsgPack(raw=False, use_bin_type=True, use_single_float=False)\n",
      "encode\n",
      "76.7 ms ± 996 µs per loop (mean ± std. dev. of 7 runs, 10 loops each)\n",
      "decode\n",
      "173 ms ± 7.82 ms per loop (mean ± std. dev. of 7 runs, 10 loops each)\n",
      "size         : 7,405,616\n",
      "size (zstd 1): 3,312,068\n",
      "size (zstd 5): 2,708,195\n",
      "size (zstd 9): 2,700,345\n"
     ]
    }
   ],
   "source": [
    "benchmark_codec(msgpack_codec, data2)"
   ]
  },
  {
   "cell_type": "code",
   "execution_count": 15,
   "metadata": {},
   "outputs": [
    {
     "name": "stdout",
     "output_type": "stream",
     "text": [
      "JSON(encoding='utf-8', allow_nan=True, check_circular=True, ensure_ascii=True,\n",
      "     indent=None, separators=(',', ':'), skipkeys=False, sort_keys=True,\n",
      "     strict=True)\n",
      "encode\n",
      "183 ms ± 14.2 ms per loop (mean ± std. dev. of 7 runs, 10 loops each)\n",
      "decode\n",
      "189 ms ± 5.59 ms per loop (mean ± std. dev. of 7 runs, 10 loops each)\n",
      "size         : 9,609,634\n",
      "size (zstd 1): 2,897,941\n",
      "size (zstd 5): 2,715,484\n",
      "size (zstd 9): 2,682,781\n"
     ]
    }
   ],
   "source": [
    "benchmark_codec(json_codec, data2)"
   ]
  },
  {
   "cell_type": "code",
   "execution_count": 16,
   "metadata": {},
   "outputs": [
    {
     "name": "stdout",
     "output_type": "stream",
     "text": [
      "Pickle(protocol=5)\n",
      "encode\n",
      "230 ms ± 3.38 ms per loop (mean ± std. dev. of 7 runs, 1 loop each)\n",
      "decode\n",
      "164 ms ± 8.68 ms per loop (mean ± std. dev. of 7 runs, 10 loops each)\n",
      "size         : 9,615,186\n",
      "size (zstd 1): 3,054,991\n",
      "size (zstd 5): 2,756,213\n",
      "size (zstd 9): 2,830,899\n"
     ]
    }
   ],
   "source": [
    "benchmark_codec(pickle_codec, data2)"
   ]
  },
  {
   "cell_type": "code",
   "execution_count": 17,
   "metadata": {},
   "outputs": [
    {
     "name": "stdout",
     "output_type": "stream",
     "text": [
      "VLenUTF8()\n",
      "encode\n",
      "111 ms ± 4.91 ms per loop (mean ± std. dev. of 7 runs, 10 loops each)\n",
      "decode\n",
      "116 ms ± 3.35 ms per loop (mean ± std. dev. of 7 runs, 10 loops each)\n",
      "size         : 10,711,630\n",
      "size (zstd 1): 3,641,192\n",
      "size (zstd 5): 3,461,415\n",
      "size (zstd 9): 3,025,742\n"
     ]
    }
   ],
   "source": [
    "benchmark_codec(vlen_codec, data2)"
   ]
  },
  {
   "cell_type": "markdown",
   "metadata": {},
   "source": [
    "## Byte strings benchmark"
   ]
  },
  {
   "cell_type": "code",
   "execution_count": 18,
   "metadata": {},
   "outputs": [],
   "source": [
    "vlen_bytes_codec = numcodecs.VLenBytes()"
   ]
  },
  {
   "cell_type": "code",
   "execution_count": 19,
   "metadata": {},
   "outputs": [
    {
     "data": {
      "text/plain": [
       "array([b'\\xce\\x93\\xce\\xb5\\xce\\xb9\\xce\\xb1 \\xcf\\x83\\xce\\xbf\\xcf\\x85 \\xce\\xba\\xcf\\x8c\\xcf\\x83\\xce\\xbc\\xce\\xb5!',\n",
       "       b'Hei maailma!', b'Zdravo svete!', ..., b'Servus Woid!',\n",
       "       b'\\xe0\\xb9\\x80\\xe0\\xb8\\xae\\xe0\\xb8\\xa5\\xe0\\xb9\\x82\\xe0\\xb8\\xa5\\xe0\\xb9\\x80\\xe0\\xb8\\xa7\\xe0\\xb8\\xb4\\xe0\\xb8\\xa5\\xe0\\xb8\\x94\\xe0\\xb9\\x8c',\n",
       "       b'Zdravo svete!'], dtype=object)"
      ]
     },
     "execution_count": 19,
     "metadata": {},
     "output_type": "execute_result"
    }
   ],
   "source": [
    "np.random.seed(42)\n",
    "greetings_bytes = [g.encode('utf-8') for g in greetings]\n",
    "data3 = np.random.choice(greetings_bytes, size=1000000).astype(object)\n",
    "data3"
   ]
  },
  {
   "cell_type": "code",
   "execution_count": 20,
   "metadata": {},
   "outputs": [
    {
     "data": {
      "text/plain": [
       "array([b'\\xce\\x93\\xce\\xb5\\xce\\xb9\\xce\\xb1 \\xcf\\x83\\xce\\xbf\\xcf\\x85 \\xce\\xba\\xcf\\x8c\\xcf\\x83\\xce\\xbc\\xce\\xb5!',\n",
       "       b'Hei maailma!', b'Zdravo svete!', ..., b'Servus Woid!',\n",
       "       b'\\xe0\\xb9\\x80\\xe0\\xb8\\xae\\xe0\\xb8\\xa5\\xe0\\xb9\\x82\\xe0\\xb8\\xa5\\xe0\\xb9\\x80\\xe0\\xb8\\xa7\\xe0\\xb8\\xb4\\xe0\\xb8\\xa5\\xe0\\xb8\\x94\\xe0\\xb9\\x8c',\n",
       "       b'Zdravo svete!'], dtype=object)"
      ]
     },
     "execution_count": 20,
     "metadata": {},
     "output_type": "execute_result"
    }
   ],
   "source": [
    "vlen_bytes_codec.decode(vlen_bytes_codec.encode(data3))"
   ]
  },
  {
   "cell_type": "code",
   "execution_count": 21,
   "metadata": {},
   "outputs": [
    {
     "name": "stdout",
     "output_type": "stream",
     "text": [
      "Pickle(protocol=5)\n",
      "encode\n",
      "231 ms ± 13.3 ms per loop (mean ± std. dev. of 7 runs, 1 loop each)\n",
      "decode\n",
      "108 ms ± 6.25 ms per loop (mean ± std. dev. of 7 runs, 10 loops each)\n",
      "size         : 20,835,273\n",
      "size (zstd 1): 1,565,112\n",
      "size (zstd 5): 1,435,770\n",
      "size (zstd 9): 1,204,445\n"
     ]
    }
   ],
   "source": [
    "benchmark_codec(pickle_codec, data3)"
   ]
  },
  {
   "cell_type": "code",
   "execution_count": 22,
   "metadata": {},
   "outputs": [
    {
     "name": "stdout",
     "output_type": "stream",
     "text": [
      "VLenBytes()\n",
      "encode\n",
      "33.7 ms ± 3.31 ms per loop (mean ± std. dev. of 7 runs, 10 loops each)\n",
      "decode\n",
      "65.4 ms ± 1.46 ms per loop (mean ± std. dev. of 7 runs, 10 loops each)\n",
      "size         : 21,830,275\n",
      "size (zstd 1): 1,762,783\n",
      "size (zstd 5): 1,546,616\n",
      "size (zstd 9): 1,216,314\n"
     ]
    }
   ],
   "source": [
    "benchmark_codec(vlen_bytes_codec, data3)"
   ]
  },
  {
   "cell_type": "markdown",
   "metadata": {},
   "source": [
    "## Array benchmarks"
   ]
  },
  {
   "cell_type": "code",
   "execution_count": 23,
   "metadata": {},
   "outputs": [
    {
     "data": {
      "text/plain": [
       "array([array([51, 92, 14, 71, 60, 20], dtype=int32),\n",
       "       array([82, 86, 74, 74, 87, 99], dtype=int32),\n",
       "       array([23,  2, 21, 52,  1, 87, 29], dtype=int32), ...,\n",
       "       array([19, 62, 18], dtype=int32),\n",
       "       array([93, 20,  7, 50], dtype=int32), array([51, 28], dtype=int32)],\n",
       "      dtype=object)"
      ]
     },
     "execution_count": 23,
     "metadata": {},
     "output_type": "execute_result"
    }
   ],
   "source": [
    "np.random.seed(42)\n",
    "data4 = np.array([np.random.randint(0, 100, size=np.random.randint(0, 20)).astype('i4')\n",
    "                  for i in range(100000)], dtype=object)\n",
    "data4"
   ]
  },
  {
   "cell_type": "code",
   "execution_count": 24,
   "metadata": {},
   "outputs": [],
   "source": [
    "vlen_arr_codec = numcodecs.VLenArray('<i4')"
   ]
  },
  {
   "cell_type": "code",
   "execution_count": 25,
   "metadata": {},
   "outputs": [
    {
     "data": {
      "text/plain": [
       "array([array([51, 92, 14, 71, 60, 20], dtype=int32),\n",
       "       array([82, 86, 74, 74, 87, 99], dtype=int32),\n",
       "       array([23,  2, 21, 52,  1, 87, 29], dtype=int32), ...,\n",
       "       array([19, 62, 18], dtype=int32),\n",
       "       array([93, 20,  7, 50], dtype=int32), array([51, 28], dtype=int32)],\n",
       "      dtype=object)"
      ]
     },
     "execution_count": 25,
     "metadata": {},
     "output_type": "execute_result"
    }
   ],
   "source": [
    "vlen_arr_codec.decode(vlen_arr_codec.encode(data4))"
   ]
  },
  {
   "cell_type": "code",
   "execution_count": 26,
   "metadata": {},
   "outputs": [
    {
     "name": "stdout",
     "output_type": "stream",
     "text": [
      "VLenArray(dtype='<i4')\n",
      "encode\n",
      "24.8 ms ± 1.48 ms per loop (mean ± std. dev. of 7 runs, 10 loops each)\n",
      "decode\n",
      "53.5 ms ± 842 µs per loop (mean ± std. dev. of 7 runs, 10 loops each)\n",
      "size         : 4,195,540\n",
      "size (zstd 1): 1,299,769\n",
      "size (zstd 5): 1,119,369\n",
      "size (zstd 9): 1,196,642\n"
     ]
    }
   ],
   "source": [
    "benchmark_codec(vlen_arr_codec, data4)"
   ]
  },
  {
   "cell_type": "code",
   "execution_count": 27,
   "metadata": {},
   "outputs": [
    {
     "name": "stdout",
     "output_type": "stream",
     "text": [
      "Pickle(protocol=5)\n",
      "encode\n",
      "280 ms ± 13 ms per loop (mean ± std. dev. of 7 runs, 1 loop each)\n",
      "decode\n",
      "130 ms ± 7.01 ms per loop (mean ± std. dev. of 7 runs, 10 loops each)\n",
      "size         : 6,296,822\n",
      "size (zstd 1): 1,619,421\n",
      "size (zstd 5): 1,507,086\n",
      "size (zstd 9): 1,493,343\n"
     ]
    }
   ],
   "source": [
    "benchmark_codec(pickle_codec, data4)"
   ]
  },
  {
   "cell_type": "code",
   "execution_count": null,
   "metadata": {},
   "outputs": [],
   "source": []
  }
 ],
 "metadata": {
  "kernelspec": {
   "display_name": "Python 3 (ipykernel)",
   "language": "python",
   "name": "python3"
  },
  "language_info": {
   "codemirror_mode": {
    "name": "ipython",
    "version": 3
   },
   "file_extension": ".py",
   "mimetype": "text/x-python",
   "name": "python",
   "nbconvert_exporter": "python",
   "pygments_lexer": "ipython3",
   "version": "3.9.12"
  }
 },
 "nbformat": 4,
 "nbformat_minor": 2
}
